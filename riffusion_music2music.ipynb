{
  "cells": [
    {
      "cell_type": "code",
      "execution_count": null,
      "metadata": {
        "id": "GODlqGoLouL1"
      },
      "outputs": [],
      "source": [
        "#@title Install riffusion, etc.（riffusionなどをインストール）\n",
        "\n",
        "!git clone https://github.com/hmartiro/riffusion-inference\n",
        "%cd riffusion-inference\n",
        "!pip install -q -r requirements.txt\n",
        "!pip install -q diffusers[torch]==0.10.2 'transformers>=4.21.0' ftfy opencv-python einops safetensors\n",
        "\n",
        "!pip install -q https://github.com/camenduru/stable-diffusion-webui-colab/releases/download/0.0.15/xformers-0.0.15.dev0+189828c.d20221207-cp38-cp38-linux_x86_64.whl\n",
        "\n",
        "!wget -q https://github.com/chavinlo/riffusion-manipulation/raw/master/file2img.py\n",
        "!wget -q https://github.com/chavinlo/riffusion-manipulation/raw/master/img2audio.py\n",
        "!wget -q https://github.com/thx-pw/stable-diffusion-2-dreambooth/raw/main/gen_img_diffusers.py\n",
        "!wget -q https://github.com/thx-pw/stable-diffusion-2-dreambooth/raw/main/model_util.py"
      ]
    },
    {
      "cell_type": "code",
      "execution_count": null,
      "metadata": {
        "id": "ZYHLOxUVob_6"
      },
      "outputs": [],
      "source": [
        "#@title Split mp3 into wav every 5 seconds and convert to spectrogram image（mp3を5秒ごとwavに分割、スペクトログラム画像に変換）\n",
        "input_mp3 = \"\" #@param {type:\"string\"}\n",
        "\n",
        "import os\n",
        "import glob\n",
        "from pydub import AudioSegment\n",
        "\n",
        "\n",
        "os.makedirs('/content/input/wav_clip', exist_ok=True)\n",
        "sound = AudioSegment.from_file(input_mp3, format=\"mp3\")\n",
        "sound = sound.set_channels(1)\n",
        "sound_interval_time = 5000\n",
        "for i, sound_index in enumerate(range(0, len(sound), sound_interval_time)):\n",
        "  sound_interval = sound[sound_index:sound_index+sound_interval_time]\n",
        "  sound_interval.export(\"/content/input/wav_clip/wav_clip_{0:04d}.wav\".format(i), format=\"wav\")\n",
        "\n",
        "\n",
        "os.makedirs('/content/input/spectrogram', exist_ok=True)\n",
        "files = sorted(glob.glob(\"/content/input/wav_clip/*.wav\"))\n",
        "for i, file in enumerate(files):\n",
        "  output = \"/content/input/spectrogram/spectrogram_{0:04d}.png\".format(i)\n",
        "  !python file2img.py -f {file} -o {output}"
      ]
    },
    {
      "cell_type": "code",
      "execution_count": null,
      "metadata": {
        "id": "KWPWY886OQKg"
      },
      "outputs": [],
      "source": [
        "#@title img2img of spectrogram image（スペクトログラム画像のimg2img）\n",
        "prompt = \"piano\" #@param {type:\"string\"}\n",
        "negative_prompt = \"voice\" #@param {type:\"string\"}\n",
        "sampler = \"ddim\" #@param [\"ddim\",\"pndm\",\"lms\",\"euler\",\"euler_a\",\"heun\",\"dpm_2\",\"dpm_2_a\",\"dpmsolver\",\"dpmsolver++\",\"dpmsingle\",\"k_lms\",\"k_euler\",\"k_euler_a\",\"k_dpm_2\",\"k_dpm_2_a\"]\n",
        "steps = 50 #@param {type:\"slider\", min:1, max:150, step:1}\n",
        "scale = 12.5 #@param {type:\"slider\", min:0, max:25, step:0.1}\n",
        "strength = 0.3 #@param {type:\"slider\", min:0, max:1, step:0.01}\n",
        "\n",
        "image_path = \"/content/input/spectrogram\"\n",
        "outdir = '/content/output/spectrogram'\n",
        "num_images = sum(os.path.isfile(os.path.join(image_path, name)) for name in os.listdir(image_path))\n",
        "p = f\"{prompt} --n {negative_prompt}\"\n",
        "\n",
        "/content/output/spectrogram\n",
        "!python gen_img_diffusers.py --ckpt \"riffusion/riffusion-model-v1\" \\\n",
        "    --outdir {outdir} --xformers --fp16 --scale {scale} --sampler {sampler} --steps {steps} \\\n",
        "    --image_path {image_path} --strength {strength} \\\n",
        "    --prompt \"{p}\" \\\n",
        "    --batch_size 8 --images_per_prompt {num_images} --sequential_file_name"
      ]
    },
    {
      "cell_type": "code",
      "execution_count": null,
      "metadata": {
        "id": "9SE80Grls13Z"
      },
      "outputs": [],
      "source": [
        "#@title Convert spectrogram image to wav, merge and convert to output.mp3（スペクトログラム画像からwavに変換、結合してoutput.mp3に変換）\n",
        "import os\n",
        "import glob\n",
        "\n",
        "os.makedirs('/content/output/wav_clip', exist_ok=True)\n",
        "files = sorted(glob.glob(\"/content/output/spectrogram/*.png\"))\n",
        "\n",
        "for i, file in enumerate(files):\n",
        "  output = \"/content/output/wav_clip/wav_clip_{0:04d}.wav\".format(i)\n",
        "  !python img2audio.py -f {file} -o {output}\n",
        "\n",
        "files = sorted(glob.glob(\"/content/output/wav_clip/*.wav\"))\n",
        "sound = None\n",
        "for file in files:\n",
        "  if sound is None:\n",
        "    sound = AudioSegment.from_file(file, \"wav\")\n",
        "  else:\n",
        "    sound += AudioSegment.from_file(file, \"wav\")\n",
        "\n",
        "sound.export(\"/content/output.mp3\", format=\"mp3\")"
      ]
    }
  ],
  "metadata": {
    "accelerator": "GPU",
    "colab": {
      "private_outputs": true,
      "provenance": []
    },
    "gpuClass": "standard",
    "kernelspec": {
      "display_name": "gai",
      "language": "python",
      "name": "python3"
    },
    "language_info": {
      "name": "python",
      "version": "3.10.6 (tags/v3.10.6:9c7b4bd, Aug  1 2022, 21:53:49) [MSC v.1932 64 bit (AMD64)]"
    },
    "vscode": {
      "interpreter": {
        "hash": "261985e79459aa7a0920b0980fd55715881ca1d61b6a2bc9d89772ed5b4a9420"
      }
    }
  },
  "nbformat": 4,
  "nbformat_minor": 0
}
